{
 "cells": [
  {
   "cell_type": "markdown",
   "id": "1dd122e1-8b44-4ed1-bdb2-b00419162105",
   "metadata": {},
   "source": [
    "# CMSC320 Final Project"
   ]
  },
  {
   "cell_type": "markdown",
   "id": "e5ca76cf-a86e-48f9-84ce-2a3c587759ec",
   "metadata": {},
   "source": [
    "## Chanoe Andrew Park, Nate Ellis"
   ]
  },
  {
   "cell_type": "code",
   "execution_count": null,
   "id": "34103987-6d72-4bc0-9889-e263f5c052d1",
   "metadata": {},
   "outputs": [],
   "source": []
  }
 ],
 "metadata": {
  "kernelspec": {
   "display_name": "Python 3 (ipykernel)",
   "language": "python",
   "name": "python3"
  },
  "language_info": {
   "codemirror_mode": {
    "name": "ipython",
    "version": 3
   },
   "file_extension": ".py",
   "mimetype": "text/x-python",
   "name": "python",
   "nbconvert_exporter": "python",
   "pygments_lexer": "ipython3",
   "version": "3.9.7"
  }
 },
 "nbformat": 4,
 "nbformat_minor": 5
}
