{
 "cells": [
  {
   "cell_type": "markdown",
   "id": "1dd122e1-8b44-4ed1-bdb2-b00419162105",
   "metadata": {},
   "source": [
    "# **Analyzing WCA Competitors' Relative Performances in Big Cube Events**\n",
    "\n",
    "Chanoe Andrew Park, Nate Ellis"
   ]
  },
  {
   "cell_type": "markdown",
   "id": "e399ba25-43da-4ccd-af39-b2304ae40533",
   "metadata": {},
   "source": [
    "***\n",
    "## **Data collection/curation + parsing**"
   ]
  },
  {
   "cell_type": "code",
   "execution_count": 14,
   "id": "bbaab7a6-8897-4485-b8cf-6416c8396775",
   "metadata": {},
   "outputs": [],
   "source": [
    "import os\n",
    "import requests\n",
    "import shutil\n",
    "import zipfile\n",
    "\n",
    "data_dir = './WCA_data'\n",
    "data_zip = f'{data_dir}.zip'\n",
    "\n",
    "if os.path.isdir(data_dir):\n",
    "    # Delete the existing data\n",
    "    shutil.rmtree(data_dir)\n",
    "\n",
    "if os.path.exists(data_zip):\n",
    "    # Delete the zipped data\n",
    "    os.remove(data_zip)\n",
    "\n",
    "# Get data from WCA\n",
    "url = 'https://www.worldcubeassociation.org/results/misc/WCA_export.tsv.zip'\n",
    "r = requests.get(url, stream=True)\n",
    "\n",
    "with open(data_zip, 'wb') as f:\n",
    "    f.write(r.content)\n",
    "            \n",
    "# Extract zipped data\n",
    "with zipfile.ZipFile(data_zip, 'r') as zf:\n",
    "    zf.extractall(data_dir)"
   ]
  },
  {
   "cell_type": "markdown",
   "id": "78e6d3cc-fefd-474d-8c05-c596d700d8e8",
   "metadata": {},
   "source": [
    "***\n",
    "## **Data management/representation**"
   ]
  },
  {
   "cell_type": "code",
   "execution_count": null,
   "id": "fa38a869-d021-4aa2-b2aa-87d8a9bb0b64",
   "metadata": {},
   "outputs": [],
   "source": []
  },
  {
   "cell_type": "markdown",
   "id": "cd69b43b-bb8b-48bd-9745-983dae95218e",
   "metadata": {},
   "source": [
    "***\n",
    "## **Exploratory data analysis**"
   ]
  },
  {
   "cell_type": "code",
   "execution_count": null,
   "id": "d85dbe84-56ae-4697-a508-c642a5caebf5",
   "metadata": {},
   "outputs": [],
   "source": []
  },
  {
   "cell_type": "markdown",
   "id": "fb92c372-1fa1-4525-80dd-d28deac2c858",
   "metadata": {},
   "source": [
    "***\n",
    "## **Hypothesis testing**"
   ]
  },
  {
   "cell_type": "code",
   "execution_count": null,
   "id": "2d1afc72-3e37-4269-a577-f022fd8afb1b",
   "metadata": {},
   "outputs": [],
   "source": []
  },
  {
   "cell_type": "markdown",
   "id": "23a36a31-728c-4133-a0fb-ab7264936f44",
   "metadata": {},
   "source": [
    "***\n",
    "## **Conclusion (Communication of insights attained)**"
   ]
  },
  {
   "cell_type": "code",
   "execution_count": null,
   "id": "cc45b1d7-c689-4751-a91a-7c963c86f358",
   "metadata": {},
   "outputs": [],
   "source": []
  }
 ],
 "metadata": {
  "kernelspec": {
   "display_name": "Python 3 (ipykernel)",
   "language": "python",
   "name": "python3"
  },
  "language_info": {
   "codemirror_mode": {
    "name": "ipython",
    "version": 3
   },
   "file_extension": ".py",
   "mimetype": "text/x-python",
   "name": "python",
   "nbconvert_exporter": "python",
   "pygments_lexer": "ipython3",
   "version": "3.9.7"
  }
 },
 "nbformat": 4,
 "nbformat_minor": 5
}
